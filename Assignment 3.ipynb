{
 "cells": [
  {
   "cell_type": "code",
   "execution_count": 11,
   "id": "44c11ebe",
   "metadata": {},
   "outputs": [
    {
     "data": {
      "text/plain": [
       "<generator object myreduce at 0x000001A5872D5660>"
      ]
     },
     "execution_count": 11,
     "metadata": {},
     "output_type": "execute_result"
    }
   ],
   "source": [
    "def myreduce(function,lst):\n",
    "    for i in range(len(lst)-1):\n",
    "        lst[i+1] = function(lst[i],lst[i+1])\n",
    "    return lst[-1]\n",
    "\n",
    "a = myreduce(lambda x,y:x+y,[2,3,4,5,6,8,9,7,10,1])\n",
    "a   \n",
    "        \n",
    "        \n",
    "    "
   ]
  },
  {
   "cell_type": "code",
   "execution_count": 14,
   "id": "51c3172a",
   "metadata": {},
   "outputs": [
    {
     "data": {
      "text/plain": [
       "[34, 34, 6, 58, 846, 46, 6]"
      ]
     },
     "execution_count": 14,
     "metadata": {},
     "output_type": "execute_result"
    }
   ],
   "source": [
    "def myfilter(function,lst):\n",
    "    for i in lst:\n",
    "        if(function(i)):\n",
    "            yield i\n",
    "a = myfilter(lambda x:x%2==0,[34,5,45,635,34,6,58,846,5,46,6])\n",
    "list(a)"
   ]
  },
  {
   "cell_type": "code",
   "execution_count": 25,
   "id": "d1491a0a",
   "metadata": {},
   "outputs": [],
   "source": [
    "l = [i*j for i in ['x','y','z'] for j in range(1,5)]"
   ]
  },
  {
   "cell_type": "code",
   "execution_count": 26,
   "id": "921de8f5",
   "metadata": {},
   "outputs": [
    {
     "data": {
      "text/plain": [
       "['x', 'xx', 'xxx', 'xxxx', 'y', 'yy', 'yyy', 'yyyy', 'z', 'zz', 'zzz', 'zzzz']"
      ]
     },
     "execution_count": 26,
     "metadata": {},
     "output_type": "execute_result"
    }
   ],
   "source": [
    "l"
   ]
  },
  {
   "cell_type": "code",
   "execution_count": 23,
   "id": "1866e243",
   "metadata": {},
   "outputs": [],
   "source": [
    "m = [i*j for j in range(1,5) for i in ['x','y','z'] ]"
   ]
  },
  {
   "cell_type": "code",
   "execution_count": 24,
   "id": "a57b8ef4",
   "metadata": {},
   "outputs": [
    {
     "data": {
      "text/plain": [
       "['x', 'y', 'z', 'xx', 'yy', 'zz', 'xxx', 'yyy', 'zzz', 'xxxx', 'yyyy', 'zzzz']"
      ]
     },
     "execution_count": 24,
     "metadata": {},
     "output_type": "execute_result"
    }
   ],
   "source": [
    "m"
   ]
  },
  {
   "cell_type": "code",
   "execution_count": 36,
   "id": "e7b4f7b2",
   "metadata": {},
   "outputs": [],
   "source": [
    "n = [[x] for i in range(2,5) for x in range(i,i+3)]"
   ]
  },
  {
   "cell_type": "code",
   "execution_count": 37,
   "id": "bd547505",
   "metadata": {},
   "outputs": [
    {
     "data": {
      "text/plain": [
       "[[2], [3], [4], [3], [4], [5], [4], [5], [6]]"
      ]
     },
     "execution_count": 37,
     "metadata": {},
     "output_type": "execute_result"
    }
   ],
   "source": [
    "n"
   ]
  },
  {
   "cell_type": "code",
   "execution_count": 39,
   "id": "e982896a",
   "metadata": {},
   "outputs": [],
   "source": [
    "O = [[i for i in range(j,j+4)] for j in range(2,6)]"
   ]
  },
  {
   "cell_type": "code",
   "execution_count": 41,
   "id": "4c24d2d6",
   "metadata": {},
   "outputs": [
    {
     "data": {
      "text/plain": [
       "[[2, 3, 4, 5], [3, 4, 5, 6], [4, 5, 6, 7], [5, 6, 7, 8]]"
      ]
     },
     "execution_count": 41,
     "metadata": {},
     "output_type": "execute_result"
    }
   ],
   "source": [
    "O"
   ]
  },
  {
   "cell_type": "code",
   "execution_count": 44,
   "id": "7740e741",
   "metadata": {},
   "outputs": [],
   "source": [
    "p= [(y,x) for x in range(1,4) for y in range(1,4)]"
   ]
  },
  {
   "cell_type": "code",
   "execution_count": 45,
   "id": "a1c77da5",
   "metadata": {},
   "outputs": [
    {
     "data": {
      "text/plain": [
       "[(1, 1), (2, 1), (3, 1), (1, 2), (2, 2), (3, 2), (1, 3), (2, 3), (3, 3)]"
      ]
     },
     "execution_count": 45,
     "metadata": {},
     "output_type": "execute_result"
    }
   ],
   "source": [
    "p"
   ]
  },
  {
   "cell_type": "code",
   "execution_count": null,
   "id": "5e314dc3",
   "metadata": {},
   "outputs": [],
   "source": []
  }
 ],
 "metadata": {
  "kernelspec": {
   "display_name": "Python 3 (ipykernel)",
   "language": "python",
   "name": "python3"
  },
  "language_info": {
   "codemirror_mode": {
    "name": "ipython",
    "version": 3
   },
   "file_extension": ".py",
   "mimetype": "text/x-python",
   "name": "python",
   "nbconvert_exporter": "python",
   "pygments_lexer": "ipython3",
   "version": "3.9.12"
  }
 },
 "nbformat": 4,
 "nbformat_minor": 5
}
