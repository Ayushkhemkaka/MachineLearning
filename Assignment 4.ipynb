{
 "cells": [
  {
   "cell_type": "code",
   "execution_count": 6,
   "id": "fa4861ba",
   "metadata": {},
   "outputs": [],
   "source": [
    "class diagram:\n",
    "    def __init__(self,a,b,c):\n",
    "        self.a = a\n",
    "        self.b = b\n",
    "        self.c = c\n",
    "class area(diagram):\n",
    "    def __init__(self,*args):\n",
    "        super(area,self).__init__(*args)\n",
    "    def tarea(self):\n",
    "        s = self.a+self.b+self.c\n",
    "        si = s*0.5\n",
    "        sa = si-self.a\n",
    "        sb = si-self.b\n",
    "        sc = si-self.c\n",
    "        a = (si*sa*sb*sc)**0.5\n",
    "        return a\n",
    "a = area(3,4,5)"
   ]
  },
  {
   "cell_type": "code",
   "execution_count": 7,
   "id": "7e357b6d",
   "metadata": {},
   "outputs": [
    {
     "data": {
      "text/plain": [
       "6.0"
      ]
     },
     "execution_count": 7,
     "metadata": {},
     "output_type": "execute_result"
    }
   ],
   "source": [
    "a.tarea()\n"
   ]
  },
  {
   "cell_type": "code",
   "execution_count": 9,
   "id": "96369533",
   "metadata": {},
   "outputs": [
    {
     "name": "stdout",
     "output_type": "stream",
     "text": [
      "['feerrv', 'egervsdfg', 'tehreb', 'ebrthnrd']\n"
     ]
    }
   ],
   "source": [
    "def filter_long_words(lst,n):\n",
    "    res=[]\n",
    "    for i in lst:\n",
    "        if len(i) > n:\n",
    "            res.append(i)\n",
    "    print(res)\n",
    "filter_long_words(['feerrv','egervsdfg','r','tehreb','erge','ebrthnrd','erh'],5)"
   ]
  },
  {
   "cell_type": "code",
   "execution_count": 10,
   "id": "911be2fd",
   "metadata": {},
   "outputs": [
    {
     "name": "stdout",
     "output_type": "stream",
     "text": [
      "[6, 9, 1, 6, 4, 8, 3]\n"
     ]
    }
   ],
   "source": [
    "def words(lst):\n",
    "    res=[]\n",
    "    for i in lst:\n",
    "        res.append(len(i))\n",
    "    print(res)\n",
    "words(['feerrv','egervsdfg','r','tehreb','erge','ebrthnrd','erh'])"
   ]
  },
  {
   "cell_type": "code",
   "execution_count": 11,
   "id": "b51d7d93",
   "metadata": {},
   "outputs": [
    {
     "name": "stdout",
     "output_type": "stream",
     "text": [
      "[False, True, False, False, False, True, True, False, False, True]\n"
     ]
    }
   ],
   "source": [
    "def vowels(lst):\n",
    "    res=[]\n",
    "    for i in lst:\n",
    "        if i in ['a','e','i','o','u']:\n",
    "            res.append(True)\n",
    "        else:\n",
    "            res.append(False)\n",
    "    print(res)\n",
    "vowels(['f','e','r','g','v','a','i','h','b','u'])"
   ]
  },
  {
   "cell_type": "code",
   "execution_count": null,
   "id": "b91d9b24",
   "metadata": {},
   "outputs": [],
   "source": []
  }
 ],
 "metadata": {
  "kernelspec": {
   "display_name": "Python 3 (ipykernel)",
   "language": "python",
   "name": "python3"
  },
  "language_info": {
   "codemirror_mode": {
    "name": "ipython",
    "version": 3
   },
   "file_extension": ".py",
   "mimetype": "text/x-python",
   "name": "python",
   "nbconvert_exporter": "python",
   "pygments_lexer": "ipython3",
   "version": "3.9.12"
  }
 },
 "nbformat": 4,
 "nbformat_minor": 5
}
